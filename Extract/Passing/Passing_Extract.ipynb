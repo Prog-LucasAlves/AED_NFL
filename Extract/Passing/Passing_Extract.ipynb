{
 "cells": [
  {
   "cell_type": "markdown",
   "metadata": {},
   "source": [
    "# NFL Passing Temporada 2009 até atual\n",
    "\n",
    "## Realizando a extração dos dados de passing de cada temporada."
   ]
  },
  {
   "cell_type": "markdown",
   "metadata": {},
   "source": [
    "### Bibliotecas Utilizadas:"
   ]
  },
  {
   "cell_type": "code",
   "execution_count": 3,
   "metadata": {},
   "outputs": [],
   "source": [
    "# Bibliotecas Utilizadas\n",
    "\n",
    "# Scrap\n",
    "from urllib.request import urlopen\n",
    "from bs4 import BeautifulSoup\n",
    "\n",
    "# Manipulaçao dos dados\n",
    "import pandas as pd\n",
    "\n",
    "# Ignore Warning(Avisos)\n",
    "import warnings\n",
    "\n",
    "warnings.filterwarnings(\"ignore\")\n",
    "\n",
    "pd.set_option('display.max_columns', 100)"
   ]
  },
  {
   "cell_type": "markdown",
   "metadata": {},
   "source": [
    "### Coletando os dados"
   ]
  },
  {
   "cell_type": "code",
   "execution_count": 4,
   "metadata": {},
   "outputs": [
    {
     "name": "stdout",
     "output_type": "stream",
     "text": [
      "--------\n",
      "Dados de 2010 coletados com sucesso\n",
      "Dados de 2011 coletados com sucesso\n",
      "Dados de 2012 coletados com sucesso\n",
      "Dados de 2013 coletados com sucesso\n",
      "Dados de 2014 coletados com sucesso\n",
      "Dados de 2015 coletados com sucesso\n",
      "Dados de 2016 coletados com sucesso\n",
      "Dados de 2017 coletados com sucesso\n",
      "Dados de 2018 coletados com sucesso\n",
      "Dados de 2019 coletados com sucesso\n",
      "Dados de 2020 coletados com sucesso\n",
      "Dados de 2021 coletados com sucesso\n",
      "Dados de 2022 coletados com sucesso\n",
      "--------\n",
      "Finalizou a coleta dos dados\n"
     ]
    }
   ],
   "source": [
    "# Coletando os Dados\n",
    "print('--------')\n",
    "\n",
    "# Anos - da onde serão coletados os dados\n",
    "for i in range(2010, 2023):\n",
    "    \n",
    "    # Url para coletar os dados\n",
    "    url = f'https://www.pro-football-reference.com/years/{i}/passing.htm'\n",
    "    html = urlopen(url)\n",
    "    stats_page = BeautifulSoup(html)\n",
    "\n",
    "    # Coletando as colunas da tabela\n",
    "    column_headers = stats_page.findAll('tr')[0]\n",
    "    column_headers = [i.getText() for i in column_headers.findAll('th')]\n",
    "\n",
    "    # Coletando as linhas da tabela\n",
    "    rows = stats_page.findAll('tr')[1:]\n",
    "\n",
    "    # Lista para guardar as linhas\n",
    "    qb_stats = []\n",
    "    \n",
    "    # Loop para coletar as informações e salvando na lista\n",
    "    for r in range(len(rows)):\n",
    "        qb_stats.append([col.getText() for col in rows[r].findAll('td')])\n",
    "    \n",
    "    # Criando um dataframe com as linhas(qb_stats) e o cabeçalho(Nome das colunas)(columns_headers)\n",
    "    data = pd.DataFrame(qb_stats, columns=column_headers[1:])\n",
    "    \n",
    "    # Criando uma coluna para identificar o ano no dataframe\n",
    "    data['Year'] = i\n",
    "    \n",
    "    # Salvando o dataframe em um arquivo .csv\n",
    "    data.to_csv(f'../../Data/Data_For_Extract/Passing/PASSING{i}.csv', index=False)\n",
    "    print(f'Dados de {i} coletados com sucesso')\n",
    "\n",
    "print('--------')\n",
    "print('Finalizou a coleta dos dados')"
   ]
  }
 ],
 "metadata": {
  "kernelspec": {
   "display_name": "Python 3.10.6 ('AED_NFL')",
   "language": "python",
   "name": "python3"
  },
  "language_info": {
   "codemirror_mode": {
    "name": "ipython",
    "version": 3
   },
   "file_extension": ".py",
   "mimetype": "text/x-python",
   "name": "python",
   "nbconvert_exporter": "python",
   "pygments_lexer": "ipython3",
   "version": "3.10.6"
  },
  "orig_nbformat": 4,
  "vscode": {
   "interpreter": {
    "hash": "f400a452013076deaeef5d5fc759bfd76051663f402a5ef7bcd7f94d5051e197"
   }
  }
 },
 "nbformat": 4,
 "nbformat_minor": 2
}
