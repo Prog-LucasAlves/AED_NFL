{
 "cells": [
  {
   "cell_type": "markdown",
   "metadata": {},
   "source": [
    "# NFL Passing\n",
    "\n",
    "### Unindo e realizando as transformações(Limpeza) necessarias"
   ]
  },
  {
   "cell_type": "markdown",
   "metadata": {},
   "source": [
    "### Bibliotecas Utilizadas:"
   ]
  },
  {
   "cell_type": "code",
   "execution_count": 1,
   "metadata": {},
   "outputs": [],
   "source": [
    "# Manipulação de dados\n",
    "import pandas as pd\n",
    "import numpy as np\n",
    "\n",
    "# Manipulação de pastas e arquivos\n",
    "import os\n",
    "import glob\n",
    "\n",
    "# Ignore Warning(Avisos)\n",
    "import warnings\n",
    "\n",
    "warnings.filterwarnings(\"ignore\")\n",
    "pd.set_option('display.max_columns', 100)"
   ]
  },
  {
   "cell_type": "markdown",
   "metadata": {},
   "source": [
    "### Carregando e unindo os arquivos csv"
   ]
  },
  {
   "cell_type": "code",
   "execution_count": 2,
   "metadata": {},
   "outputs": [],
   "source": [
    "# Selecionando a extensão dos arquivos\n",
    "extension = 'csv'\n",
    "\n",
    "# Unindo os arquivos CSVs em um DataFrame\n",
    "all_filenames = [i for i in glob.glob(f'../../DATA/DATA_FOR_EXTRACT/PASSING/*'.format(extension))]\n",
    "data = pd.concat([pd.read_csv(f) for f in all_filenames ])"
   ]
  },
  {
   "cell_type": "markdown",
   "metadata": {},
   "source": [
    "### Informações do dataset"
   ]
  },
  {
   "cell_type": "code",
   "execution_count": 3,
   "metadata": {},
   "outputs": [
    {
     "data": {
      "text/plain": [
       "Index(['Player', 'Tm', 'Age', 'Pos', 'G', 'GS', 'QBrec', 'Cmp', 'Att', 'Cmp%',\n",
       "       'Yds', 'TD', 'TD%', 'Int', 'Int%', '1D', 'Lng', 'Y/A', 'AY/A', 'Y/C',\n",
       "       'Y/G', 'Rate', 'QBR', 'Sk', 'Yds.1', 'Sk%', 'NY/A', 'ANY/A', '4QC',\n",
       "       'GWD', 'Year'],\n",
       "      dtype='object')"
      ]
     },
     "execution_count": 3,
     "metadata": {},
     "output_type": "execute_result"
    }
   ],
   "source": [
    "# Verificando o nome das colunas do DataFrame\n",
    "data.columns"
   ]
  },
  {
   "cell_type": "code",
   "execution_count": 4,
   "metadata": {},
   "outputs": [
    {
     "data": {
      "text/plain": [
       "(1290, 31)"
      ]
     },
     "execution_count": 4,
     "metadata": {},
     "output_type": "execute_result"
    }
   ],
   "source": [
    "# Verificando a quantidade de linhas e colunas do DataFrame\n",
    "data.shape"
   ]
  },
  {
   "cell_type": "code",
   "execution_count": 5,
   "metadata": {},
   "outputs": [
    {
     "name": "stdout",
     "output_type": "stream",
     "text": [
      "<class 'pandas.core.frame.DataFrame'>\n",
      "Int64Index: 1290 entries, 0 to 77\n",
      "Data columns (total 31 columns):\n",
      " #   Column  Non-Null Count  Dtype  \n",
      "---  ------  --------------  -----  \n",
      " 0   Player  1255 non-null   object \n",
      " 1   Tm      1255 non-null   object \n",
      " 2   Age     1255 non-null   float64\n",
      " 3   Pos     1229 non-null   object \n",
      " 4   G       1255 non-null   float64\n",
      " 5   GS      1255 non-null   float64\n",
      " 6   QBrec   709 non-null    object \n",
      " 7   Cmp     1255 non-null   float64\n",
      " 8   Att     1255 non-null   float64\n",
      " 9   Cmp%    1255 non-null   float64\n",
      " 10  Yds     1255 non-null   float64\n",
      " 11  TD      1255 non-null   float64\n",
      " 12  TD%     1255 non-null   float64\n",
      " 13  Int     1255 non-null   float64\n",
      " 14  Int%    1255 non-null   float64\n",
      " 15  1D      1255 non-null   float64\n",
      " 16  Lng     1255 non-null   float64\n",
      " 17  Y/A     1255 non-null   float64\n",
      " 18  AY/A    1255 non-null   float64\n",
      " 19  Y/C     1097 non-null   float64\n",
      " 20  Y/G     1255 non-null   float64\n",
      " 21  Rate    1255 non-null   float64\n",
      " 22  QBR     1157 non-null   float64\n",
      " 23  Sk      1255 non-null   float64\n",
      " 24  Yds.1   1255 non-null   float64\n",
      " 25  Sk%     1255 non-null   float64\n",
      " 26  NY/A    1255 non-null   float64\n",
      " 27  ANY/A   1255 non-null   float64\n",
      " 28  4QC     470 non-null    float64\n",
      " 29  GWD     470 non-null    float64\n",
      " 30  Year    1290 non-null   int64  \n",
      "dtypes: float64(26), int64(1), object(4)\n",
      "memory usage: 322.5+ KB\n"
     ]
    }
   ],
   "source": [
    "# Info do dataset\n",
    "data.info()"
   ]
  },
  {
   "cell_type": "markdown",
   "metadata": {},
   "source": [
    "### Verificando valores ausentes / nulos"
   ]
  },
  {
   "cell_type": "code",
   "execution_count": 6,
   "metadata": {},
   "outputs": [
    {
     "name": "stdout",
     "output_type": "stream",
     "text": [
      "O Dataset tem 8.62 % de valores ausentes.\n"
     ]
    }
   ],
   "source": [
    "# Calcula o total de células no dataset\n",
    "totalCells = np.product(data.shape)\n",
    "\n",
    "# Conta o número de valores ausentes por coluna\n",
    "missingCount = data.isnull().sum()\n",
    "\n",
    "# Calcula o total de valores ausentes\n",
    "totalMissing = missingCount.sum()\n",
    "\n",
    "# Calcula o percentual de valores ausentes\n",
    "print(\"O Dataset tem\", round(((totalMissing/totalCells) * 100), 2), \"%\", \"de valores ausentes.\")"
   ]
  },
  {
   "cell_type": "code",
   "execution_count": 7,
   "metadata": {},
   "outputs": [
    {
     "name": "stdout",
     "output_type": "stream",
     "text": [
      "O dataset tem 31 colunas.\n",
      "Encontrado: 30 colunas que têm valores ausentes.\n"
     ]
    },
    {
     "data": {
      "text/html": [
       "<div>\n",
       "<style scoped>\n",
       "    .dataframe tbody tr th:only-of-type {\n",
       "        vertical-align: middle;\n",
       "    }\n",
       "\n",
       "    .dataframe tbody tr th {\n",
       "        vertical-align: top;\n",
       "    }\n",
       "\n",
       "    .dataframe thead th {\n",
       "        text-align: right;\n",
       "    }\n",
       "</style>\n",
       "<table border=\"1\" class=\"dataframe\">\n",
       "  <thead>\n",
       "    <tr style=\"text-align: right;\">\n",
       "      <th></th>\n",
       "      <th>Valores Ausentes</th>\n",
       "      <th>% de Valores Ausentes</th>\n",
       "      <th>Dtype</th>\n",
       "    </tr>\n",
       "  </thead>\n",
       "  <tbody>\n",
       "    <tr>\n",
       "      <th>GWD</th>\n",
       "      <td>820</td>\n",
       "      <td>63.57</td>\n",
       "      <td>float64</td>\n",
       "    </tr>\n",
       "    <tr>\n",
       "      <th>4QC</th>\n",
       "      <td>820</td>\n",
       "      <td>63.57</td>\n",
       "      <td>float64</td>\n",
       "    </tr>\n",
       "    <tr>\n",
       "      <th>QBrec</th>\n",
       "      <td>581</td>\n",
       "      <td>45.04</td>\n",
       "      <td>object</td>\n",
       "    </tr>\n",
       "    <tr>\n",
       "      <th>Y/C</th>\n",
       "      <td>193</td>\n",
       "      <td>14.96</td>\n",
       "      <td>float64</td>\n",
       "    </tr>\n",
       "    <tr>\n",
       "      <th>QBR</th>\n",
       "      <td>133</td>\n",
       "      <td>10.31</td>\n",
       "      <td>float64</td>\n",
       "    </tr>\n",
       "    <tr>\n",
       "      <th>Pos</th>\n",
       "      <td>61</td>\n",
       "      <td>4.73</td>\n",
       "      <td>object</td>\n",
       "    </tr>\n",
       "    <tr>\n",
       "      <th>Lng</th>\n",
       "      <td>35</td>\n",
       "      <td>2.71</td>\n",
       "      <td>float64</td>\n",
       "    </tr>\n",
       "    <tr>\n",
       "      <th>ANY/A</th>\n",
       "      <td>35</td>\n",
       "      <td>2.71</td>\n",
       "      <td>float64</td>\n",
       "    </tr>\n",
       "    <tr>\n",
       "      <th>NY/A</th>\n",
       "      <td>35</td>\n",
       "      <td>2.71</td>\n",
       "      <td>float64</td>\n",
       "    </tr>\n",
       "    <tr>\n",
       "      <th>Sk%</th>\n",
       "      <td>35</td>\n",
       "      <td>2.71</td>\n",
       "      <td>float64</td>\n",
       "    </tr>\n",
       "    <tr>\n",
       "      <th>Yds.1</th>\n",
       "      <td>35</td>\n",
       "      <td>2.71</td>\n",
       "      <td>float64</td>\n",
       "    </tr>\n",
       "    <tr>\n",
       "      <th>Sk</th>\n",
       "      <td>35</td>\n",
       "      <td>2.71</td>\n",
       "      <td>float64</td>\n",
       "    </tr>\n",
       "    <tr>\n",
       "      <th>Rate</th>\n",
       "      <td>35</td>\n",
       "      <td>2.71</td>\n",
       "      <td>float64</td>\n",
       "    </tr>\n",
       "    <tr>\n",
       "      <th>Y/G</th>\n",
       "      <td>35</td>\n",
       "      <td>2.71</td>\n",
       "      <td>float64</td>\n",
       "    </tr>\n",
       "    <tr>\n",
       "      <th>AY/A</th>\n",
       "      <td>35</td>\n",
       "      <td>2.71</td>\n",
       "      <td>float64</td>\n",
       "    </tr>\n",
       "    <tr>\n",
       "      <th>Y/A</th>\n",
       "      <td>35</td>\n",
       "      <td>2.71</td>\n",
       "      <td>float64</td>\n",
       "    </tr>\n",
       "    <tr>\n",
       "      <th>Player</th>\n",
       "      <td>35</td>\n",
       "      <td>2.71</td>\n",
       "      <td>object</td>\n",
       "    </tr>\n",
       "    <tr>\n",
       "      <th>Tm</th>\n",
       "      <td>35</td>\n",
       "      <td>2.71</td>\n",
       "      <td>object</td>\n",
       "    </tr>\n",
       "    <tr>\n",
       "      <th>Int%</th>\n",
       "      <td>35</td>\n",
       "      <td>2.71</td>\n",
       "      <td>float64</td>\n",
       "    </tr>\n",
       "    <tr>\n",
       "      <th>Int</th>\n",
       "      <td>35</td>\n",
       "      <td>2.71</td>\n",
       "      <td>float64</td>\n",
       "    </tr>\n",
       "    <tr>\n",
       "      <th>TD%</th>\n",
       "      <td>35</td>\n",
       "      <td>2.71</td>\n",
       "      <td>float64</td>\n",
       "    </tr>\n",
       "    <tr>\n",
       "      <th>TD</th>\n",
       "      <td>35</td>\n",
       "      <td>2.71</td>\n",
       "      <td>float64</td>\n",
       "    </tr>\n",
       "    <tr>\n",
       "      <th>Yds</th>\n",
       "      <td>35</td>\n",
       "      <td>2.71</td>\n",
       "      <td>float64</td>\n",
       "    </tr>\n",
       "    <tr>\n",
       "      <th>Cmp%</th>\n",
       "      <td>35</td>\n",
       "      <td>2.71</td>\n",
       "      <td>float64</td>\n",
       "    </tr>\n",
       "    <tr>\n",
       "      <th>Att</th>\n",
       "      <td>35</td>\n",
       "      <td>2.71</td>\n",
       "      <td>float64</td>\n",
       "    </tr>\n",
       "    <tr>\n",
       "      <th>Cmp</th>\n",
       "      <td>35</td>\n",
       "      <td>2.71</td>\n",
       "      <td>float64</td>\n",
       "    </tr>\n",
       "    <tr>\n",
       "      <th>GS</th>\n",
       "      <td>35</td>\n",
       "      <td>2.71</td>\n",
       "      <td>float64</td>\n",
       "    </tr>\n",
       "    <tr>\n",
       "      <th>G</th>\n",
       "      <td>35</td>\n",
       "      <td>2.71</td>\n",
       "      <td>float64</td>\n",
       "    </tr>\n",
       "    <tr>\n",
       "      <th>Age</th>\n",
       "      <td>35</td>\n",
       "      <td>2.71</td>\n",
       "      <td>float64</td>\n",
       "    </tr>\n",
       "    <tr>\n",
       "      <th>1D</th>\n",
       "      <td>35</td>\n",
       "      <td>2.71</td>\n",
       "      <td>float64</td>\n",
       "    </tr>\n",
       "  </tbody>\n",
       "</table>\n",
       "</div>"
      ],
      "text/plain": [
       "        Valores Ausentes  % de Valores Ausentes    Dtype\n",
       "GWD                  820                  63.57  float64\n",
       "4QC                  820                  63.57  float64\n",
       "QBrec                581                  45.04   object\n",
       "Y/C                  193                  14.96  float64\n",
       "QBR                  133                  10.31  float64\n",
       "Pos                   61                   4.73   object\n",
       "Lng                   35                   2.71  float64\n",
       "ANY/A                 35                   2.71  float64\n",
       "NY/A                  35                   2.71  float64\n",
       "Sk%                   35                   2.71  float64\n",
       "Yds.1                 35                   2.71  float64\n",
       "Sk                    35                   2.71  float64\n",
       "Rate                  35                   2.71  float64\n",
       "Y/G                   35                   2.71  float64\n",
       "AY/A                  35                   2.71  float64\n",
       "Y/A                   35                   2.71  float64\n",
       "Player                35                   2.71   object\n",
       "Tm                    35                   2.71   object\n",
       "Int%                  35                   2.71  float64\n",
       "Int                   35                   2.71  float64\n",
       "TD%                   35                   2.71  float64\n",
       "TD                    35                   2.71  float64\n",
       "Yds                   35                   2.71  float64\n",
       "Cmp%                  35                   2.71  float64\n",
       "Att                   35                   2.71  float64\n",
       "Cmp                   35                   2.71  float64\n",
       "GS                    35                   2.71  float64\n",
       "G                     35                   2.71  float64\n",
       "Age                   35                   2.71  float64\n",
       "1D                    35                   2.71  float64"
      ]
     },
     "execution_count": 7,
     "metadata": {},
     "output_type": "execute_result"
    }
   ],
   "source": [
    "# Total de valores ausentes\n",
    "mis_val = data.isnull().sum()\n",
    "\n",
    "# Porcentagem de valores ausentes\n",
    "mis_val_percent = 100 * mis_val / len(data)\n",
    "\n",
    "# Tipo de dado das colunas com valores ausentes\n",
    "mis_val_dtype = data.dtypes\n",
    "\n",
    "# Cria uma tabela com os resultados\n",
    "mis_val_table = pd.concat([mis_val, mis_val_percent, mis_val_dtype], axis=1)\n",
    "\n",
    "# Renomear as colunas\n",
    "mis_val_table_ren_columns = mis_val_table.rename(\n",
    "columns = {0 : 'Valores Ausentes', 1 : '% de Valores Ausentes', 2: 'Dtype'})\n",
    "\n",
    "# Classifica a tabela por porcentagem de valores ausentes de forma decrescente e remove colunas sem valores faltantes\n",
    "mis_val_table_ren_columns = mis_val_table_ren_columns[mis_val_table_ren_columns.iloc[:,0] != 0].sort_values('% de Valores Ausentes', ascending = False).round(2)\n",
    "\n",
    "# Print \n",
    "print (\"O dataset tem \" + str(data.shape[1]) + \" colunas.\\n\"\n",
    "        \"Encontrado: \" + str(mis_val_table_ren_columns.shape[0]) + \" colunas que têm valores ausentes.\")\n",
    "\n",
    "# Retorna o dataframe com informações ausentes\n",
    "mis_val_table_ren_columns"
   ]
  },
  {
   "cell_type": "markdown",
   "metadata": {},
   "source": [
    "* Vamos adotar o seguinte procedimento para cada coluna:\n",
    "- Coluna 'Unnamed: 0','QBrec','QBR','GWD','4QC' -> Essas colunas serão eliminadas.\n",
    "- Coluna 'Yds.1' -> Iremos renomear essa coluna para SYds (Sacks/Yards)\n",
    "- Coluna 'Y/C' -> Será imputado o valor 0(Zero) para os valores Nulos\n",
    "- Iremos eliminar os restantes das linhas que sobrarem com valores Nulos"
   ]
  },
  {
   "cell_type": "code",
   "execution_count": 8,
   "metadata": {},
   "outputs": [],
   "source": [
    "# Eliminando colunas\n",
    "data.drop(['QBrec','QBR','GWD','4QC'], axis=1, inplace=True)\n",
    "\n",
    "# Renomeando coluna\n",
    "data.rename(columns={'Yds.1':'SYds'}, inplace=True)\n",
    "\n",
    "# Imputando na coluna 'Y/C' o valor 0(Zero) nos valores NaN\n",
    "data['Y/C'].fillna('0.0', inplace=True)\n",
    "\n",
    "# Removendo linhas com valores nulos\n",
    "data.dropna(inplace=True)"
   ]
  },
  {
   "cell_type": "code",
   "execution_count": 9,
   "metadata": {},
   "outputs": [
    {
     "name": "stdout",
     "output_type": "stream",
     "text": [
      "O Dataset tem 0.0 % de valores ausentes.\n"
     ]
    }
   ],
   "source": [
    "# Calcula o total de células no dataset\n",
    "totalCells = np.product(data.shape)\n",
    "\n",
    "# Conta o número de valores ausentes por coluna\n",
    "missingCount = data.isnull().sum()\n",
    "\n",
    "# Calcula o total de valores ausentes\n",
    "totalMissing = missingCount.sum()\n",
    "\n",
    "# Calcula o percentual de valores ausentes\n",
    "print(\"O Dataset tem\", round(((totalMissing/totalCells) * 100), 2), \"%\", \"de valores ausentes.\")"
   ]
  },
  {
   "cell_type": "markdown",
   "metadata": {},
   "source": [
    "### Removendo caracteres de algumas linhas no dataset"
   ]
  },
  {
   "cell_type": "markdown",
   "metadata": {},
   "source": [
    "* Na coluna com o nome do jogador(Player) a alguns nomes com caracters"
   ]
  },
  {
   "cell_type": "code",
   "execution_count": 10,
   "metadata": {},
   "outputs": [
    {
     "data": {
      "text/html": [
       "<div>\n",
       "<style scoped>\n",
       "    .dataframe tbody tr th:only-of-type {\n",
       "        vertical-align: middle;\n",
       "    }\n",
       "\n",
       "    .dataframe tbody tr th {\n",
       "        vertical-align: top;\n",
       "    }\n",
       "\n",
       "    .dataframe thead th {\n",
       "        text-align: right;\n",
       "    }\n",
       "</style>\n",
       "<table border=\"1\" class=\"dataframe\">\n",
       "  <thead>\n",
       "    <tr style=\"text-align: right;\">\n",
       "      <th></th>\n",
       "      <th>Player</th>\n",
       "      <th>Tm</th>\n",
       "      <th>Age</th>\n",
       "      <th>Pos</th>\n",
       "      <th>G</th>\n",
       "      <th>GS</th>\n",
       "      <th>Cmp</th>\n",
       "      <th>Att</th>\n",
       "      <th>Cmp%</th>\n",
       "      <th>Yds</th>\n",
       "      <th>TD</th>\n",
       "      <th>TD%</th>\n",
       "      <th>Int</th>\n",
       "      <th>Int%</th>\n",
       "      <th>1D</th>\n",
       "      <th>Lng</th>\n",
       "      <th>Y/A</th>\n",
       "      <th>AY/A</th>\n",
       "      <th>Y/C</th>\n",
       "      <th>Y/G</th>\n",
       "      <th>Rate</th>\n",
       "      <th>Sk</th>\n",
       "      <th>SYds</th>\n",
       "      <th>Sk%</th>\n",
       "      <th>NY/A</th>\n",
       "      <th>ANY/A</th>\n",
       "      <th>Year</th>\n",
       "    </tr>\n",
       "  </thead>\n",
       "  <tbody>\n",
       "    <tr>\n",
       "      <th>7</th>\n",
       "      <td>Tom Brady*+</td>\n",
       "      <td>NWE</td>\n",
       "      <td>33.0</td>\n",
       "      <td>QB</td>\n",
       "      <td>16.0</td>\n",
       "      <td>16.0</td>\n",
       "      <td>324.0</td>\n",
       "      <td>492.0</td>\n",
       "      <td>65.9</td>\n",
       "      <td>3900.0</td>\n",
       "      <td>36.0</td>\n",
       "      <td>7.3</td>\n",
       "      <td>4.0</td>\n",
       "      <td>0.8</td>\n",
       "      <td>189.0</td>\n",
       "      <td>79.0</td>\n",
       "      <td>7.9</td>\n",
       "      <td>9.0</td>\n",
       "      <td>12.0</td>\n",
       "      <td>243.8</td>\n",
       "      <td>111.0</td>\n",
       "      <td>25.0</td>\n",
       "      <td>175.0</td>\n",
       "      <td>4.8</td>\n",
       "      <td>7.21</td>\n",
       "      <td>8.25</td>\n",
       "      <td>2010</td>\n",
       "    </tr>\n",
       "    <tr>\n",
       "      <th>1</th>\n",
       "      <td>Tom Brady*</td>\n",
       "      <td>NWE</td>\n",
       "      <td>34.0</td>\n",
       "      <td>QB</td>\n",
       "      <td>16.0</td>\n",
       "      <td>16.0</td>\n",
       "      <td>401.0</td>\n",
       "      <td>611.0</td>\n",
       "      <td>65.6</td>\n",
       "      <td>5235.0</td>\n",
       "      <td>39.0</td>\n",
       "      <td>6.4</td>\n",
       "      <td>12.0</td>\n",
       "      <td>2.0</td>\n",
       "      <td>262.0</td>\n",
       "      <td>99.0</td>\n",
       "      <td>8.6</td>\n",
       "      <td>9.0</td>\n",
       "      <td>13.1</td>\n",
       "      <td>327.2</td>\n",
       "      <td>105.6</td>\n",
       "      <td>32.0</td>\n",
       "      <td>173.0</td>\n",
       "      <td>5.0</td>\n",
       "      <td>7.87</td>\n",
       "      <td>8.25</td>\n",
       "      <td>2011</td>\n",
       "    </tr>\n",
       "    <tr>\n",
       "      <th>3</th>\n",
       "      <td>Tom Brady*</td>\n",
       "      <td>NWE</td>\n",
       "      <td>35.0</td>\n",
       "      <td>QB</td>\n",
       "      <td>16.0</td>\n",
       "      <td>16.0</td>\n",
       "      <td>401.0</td>\n",
       "      <td>637.0</td>\n",
       "      <td>63.0</td>\n",
       "      <td>4827.0</td>\n",
       "      <td>34.0</td>\n",
       "      <td>5.3</td>\n",
       "      <td>8.0</td>\n",
       "      <td>1.3</td>\n",
       "      <td>256.0</td>\n",
       "      <td>83.0</td>\n",
       "      <td>7.6</td>\n",
       "      <td>8.1</td>\n",
       "      <td>12.0</td>\n",
       "      <td>301.7</td>\n",
       "      <td>98.7</td>\n",
       "      <td>27.0</td>\n",
       "      <td>182.0</td>\n",
       "      <td>4.1</td>\n",
       "      <td>7.00</td>\n",
       "      <td>7.48</td>\n",
       "      <td>2012</td>\n",
       "    </tr>\n",
       "  </tbody>\n",
       "</table>\n",
       "</div>"
      ],
      "text/plain": [
       "        Player   Tm   Age Pos     G    GS    Cmp    Att  Cmp%     Yds    TD  \\\n",
       "7  Tom Brady*+  NWE  33.0  QB  16.0  16.0  324.0  492.0  65.9  3900.0  36.0   \n",
       "1   Tom Brady*  NWE  34.0  QB  16.0  16.0  401.0  611.0  65.6  5235.0  39.0   \n",
       "3   Tom Brady*  NWE  35.0  QB  16.0  16.0  401.0  637.0  63.0  4827.0  34.0   \n",
       "\n",
       "   TD%   Int  Int%     1D   Lng  Y/A  AY/A   Y/C    Y/G   Rate    Sk   SYds  \\\n",
       "7  7.3   4.0   0.8  189.0  79.0  7.9   9.0  12.0  243.8  111.0  25.0  175.0   \n",
       "1  6.4  12.0   2.0  262.0  99.0  8.6   9.0  13.1  327.2  105.6  32.0  173.0   \n",
       "3  5.3   8.0   1.3  256.0  83.0  7.6   8.1  12.0  301.7   98.7  27.0  182.0   \n",
       "\n",
       "   Sk%  NY/A  ANY/A  Year  \n",
       "7  4.8  7.21   8.25  2010  \n",
       "1  5.0  7.87   8.25  2011  \n",
       "3  4.1  7.00   7.48  2012  "
      ]
     },
     "execution_count": 10,
     "metadata": {},
     "output_type": "execute_result"
    }
   ],
   "source": [
    "data[data['Player'].str.contains('Tom Brady', regex=True)].head(3)"
   ]
  },
  {
   "cell_type": "code",
   "execution_count": 11,
   "metadata": {},
   "outputs": [
    {
     "data": {
      "text/html": [
       "<div>\n",
       "<style scoped>\n",
       "    .dataframe tbody tr th:only-of-type {\n",
       "        vertical-align: middle;\n",
       "    }\n",
       "\n",
       "    .dataframe tbody tr th {\n",
       "        vertical-align: top;\n",
       "    }\n",
       "\n",
       "    .dataframe thead th {\n",
       "        text-align: right;\n",
       "    }\n",
       "</style>\n",
       "<table border=\"1\" class=\"dataframe\">\n",
       "  <thead>\n",
       "    <tr style=\"text-align: right;\">\n",
       "      <th></th>\n",
       "      <th>Player</th>\n",
       "      <th>Tm</th>\n",
       "      <th>Age</th>\n",
       "      <th>Pos</th>\n",
       "      <th>G</th>\n",
       "      <th>GS</th>\n",
       "      <th>Cmp</th>\n",
       "      <th>Att</th>\n",
       "      <th>Cmp%</th>\n",
       "      <th>Yds</th>\n",
       "      <th>TD</th>\n",
       "      <th>TD%</th>\n",
       "      <th>Int</th>\n",
       "      <th>Int%</th>\n",
       "      <th>1D</th>\n",
       "      <th>Lng</th>\n",
       "      <th>Y/A</th>\n",
       "      <th>AY/A</th>\n",
       "      <th>Y/C</th>\n",
       "      <th>Y/G</th>\n",
       "      <th>Rate</th>\n",
       "      <th>Sk</th>\n",
       "      <th>SYds</th>\n",
       "      <th>Sk%</th>\n",
       "      <th>NY/A</th>\n",
       "      <th>ANY/A</th>\n",
       "      <th>Year</th>\n",
       "    </tr>\n",
       "  </thead>\n",
       "  <tbody>\n",
       "    <tr>\n",
       "      <th>7</th>\n",
       "      <td>Tom Brady</td>\n",
       "      <td>NWE</td>\n",
       "      <td>33.0</td>\n",
       "      <td>QB</td>\n",
       "      <td>16.0</td>\n",
       "      <td>16.0</td>\n",
       "      <td>324.0</td>\n",
       "      <td>492.0</td>\n",
       "      <td>65.9</td>\n",
       "      <td>3900.0</td>\n",
       "      <td>36.0</td>\n",
       "      <td>7.3</td>\n",
       "      <td>4.0</td>\n",
       "      <td>0.8</td>\n",
       "      <td>189.0</td>\n",
       "      <td>79.0</td>\n",
       "      <td>7.9</td>\n",
       "      <td>9.0</td>\n",
       "      <td>12.0</td>\n",
       "      <td>243.8</td>\n",
       "      <td>111.0</td>\n",
       "      <td>25.0</td>\n",
       "      <td>175.0</td>\n",
       "      <td>4.8</td>\n",
       "      <td>7.21</td>\n",
       "      <td>8.25</td>\n",
       "      <td>2010</td>\n",
       "    </tr>\n",
       "    <tr>\n",
       "      <th>1</th>\n",
       "      <td>Tom Brady</td>\n",
       "      <td>NWE</td>\n",
       "      <td>34.0</td>\n",
       "      <td>QB</td>\n",
       "      <td>16.0</td>\n",
       "      <td>16.0</td>\n",
       "      <td>401.0</td>\n",
       "      <td>611.0</td>\n",
       "      <td>65.6</td>\n",
       "      <td>5235.0</td>\n",
       "      <td>39.0</td>\n",
       "      <td>6.4</td>\n",
       "      <td>12.0</td>\n",
       "      <td>2.0</td>\n",
       "      <td>262.0</td>\n",
       "      <td>99.0</td>\n",
       "      <td>8.6</td>\n",
       "      <td>9.0</td>\n",
       "      <td>13.1</td>\n",
       "      <td>327.2</td>\n",
       "      <td>105.6</td>\n",
       "      <td>32.0</td>\n",
       "      <td>173.0</td>\n",
       "      <td>5.0</td>\n",
       "      <td>7.87</td>\n",
       "      <td>8.25</td>\n",
       "      <td>2011</td>\n",
       "    </tr>\n",
       "    <tr>\n",
       "      <th>3</th>\n",
       "      <td>Tom Brady</td>\n",
       "      <td>NWE</td>\n",
       "      <td>35.0</td>\n",
       "      <td>QB</td>\n",
       "      <td>16.0</td>\n",
       "      <td>16.0</td>\n",
       "      <td>401.0</td>\n",
       "      <td>637.0</td>\n",
       "      <td>63.0</td>\n",
       "      <td>4827.0</td>\n",
       "      <td>34.0</td>\n",
       "      <td>5.3</td>\n",
       "      <td>8.0</td>\n",
       "      <td>1.3</td>\n",
       "      <td>256.0</td>\n",
       "      <td>83.0</td>\n",
       "      <td>7.6</td>\n",
       "      <td>8.1</td>\n",
       "      <td>12.0</td>\n",
       "      <td>301.7</td>\n",
       "      <td>98.7</td>\n",
       "      <td>27.0</td>\n",
       "      <td>182.0</td>\n",
       "      <td>4.1</td>\n",
       "      <td>7.00</td>\n",
       "      <td>7.48</td>\n",
       "      <td>2012</td>\n",
       "    </tr>\n",
       "  </tbody>\n",
       "</table>\n",
       "</div>"
      ],
      "text/plain": [
       "      Player   Tm   Age Pos     G    GS    Cmp    Att  Cmp%     Yds    TD  \\\n",
       "7  Tom Brady  NWE  33.0  QB  16.0  16.0  324.0  492.0  65.9  3900.0  36.0   \n",
       "1  Tom Brady  NWE  34.0  QB  16.0  16.0  401.0  611.0  65.6  5235.0  39.0   \n",
       "3  Tom Brady  NWE  35.0  QB  16.0  16.0  401.0  637.0  63.0  4827.0  34.0   \n",
       "\n",
       "   TD%   Int  Int%     1D   Lng  Y/A  AY/A   Y/C    Y/G   Rate    Sk   SYds  \\\n",
       "7  7.3   4.0   0.8  189.0  79.0  7.9   9.0  12.0  243.8  111.0  25.0  175.0   \n",
       "1  6.4  12.0   2.0  262.0  99.0  8.6   9.0  13.1  327.2  105.6  32.0  173.0   \n",
       "3  5.3   8.0   1.3  256.0  83.0  7.6   8.1  12.0  301.7   98.7  27.0  182.0   \n",
       "\n",
       "   Sk%  NY/A  ANY/A  Year  \n",
       "7  4.8  7.21   8.25  2010  \n",
       "1  5.0  7.87   8.25  2011  \n",
       "3  4.1  7.00   7.48  2012  "
      ]
     },
     "execution_count": 11,
     "metadata": {},
     "output_type": "execute_result"
    }
   ],
   "source": [
    "# Eliminando os caracteres\n",
    "data['Player'] = data['Player'].str.replace('*', '')\n",
    "data['Player'] = data['Player'].str.replace('+', '')\n",
    "\n",
    "# Verificando\n",
    "data[data['Player'].str.contains('Tom Brady', regex=True)].head(3)"
   ]
  },
  {
   "cell_type": "markdown",
   "metadata": {},
   "source": [
    "### Verificando e ajustando outras colunas do tipo 'object' = String"
   ]
  },
  {
   "cell_type": "markdown",
   "metadata": {},
   "source": [
    "* Colunas: \n",
    "- 'Tm' -> Nome do Time\n",
    "- 'Pos' -> Posição do jogador "
   ]
  },
  {
   "cell_type": "code",
   "execution_count": 12,
   "metadata": {},
   "outputs": [
    {
     "data": {
      "text/plain": [
       "array(['QB', 'qb', 'wr', 'WR', 'p', 'RB', 'rb', 'k', 'LCB', 'db', 'FS',\n",
       "       'te', 'NT', 'lb', 'TE', 'wr/qb', 'P'], dtype=object)"
      ]
     },
     "execution_count": 12,
     "metadata": {},
     "output_type": "execute_result"
    }
   ],
   "source": [
    "# Verificandos os dados da colunas 'Pos' - valores únicos\n",
    "data['Pos'].unique()"
   ]
  },
  {
   "cell_type": "code",
   "execution_count": 13,
   "metadata": {},
   "outputs": [],
   "source": [
    "# Colocando os dados da coluna 'Pos' com maiúsculas\n",
    "data['Pos'] = data['Pos'].str.upper()"
   ]
  },
  {
   "cell_type": "code",
   "execution_count": 14,
   "metadata": {},
   "outputs": [
    {
     "data": {
      "text/plain": [
       "array(['QB', 'WR', 'P', 'RB', 'K', 'LCB', 'DB', 'FS', 'TE', 'NT', 'LB',\n",
       "       'WR/QB'], dtype=object)"
      ]
     },
     "execution_count": 14,
     "metadata": {},
     "output_type": "execute_result"
    }
   ],
   "source": [
    "data['Pos'].unique()"
   ]
  },
  {
   "cell_type": "code",
   "execution_count": 15,
   "metadata": {},
   "outputs": [
    {
     "data": {
      "text/plain": [
       "array(['SDG', 'IND', 'NOR', 'HOU', 'NYG', 'CIN', 'GNB', 'NWE', 'ATL',\n",
       "       'DEN', 'BAL', 'STL', 'TAM', 'WAS', 'MIA', 'NYJ', 'CHI', 'PIT',\n",
       "       'KAN', 'PHI', 'SEA', 'BUF', 'JAX', 'DET', 'MIN', 'OAK', 'SFO',\n",
       "       'DAL', 'ARI', 'TEN', 'CLE', 'CAR', 'LAR', 'LAC', 'LVR'],\n",
       "      dtype=object)"
      ]
     },
     "execution_count": 15,
     "metadata": {},
     "output_type": "execute_result"
    }
   ],
   "source": [
    "# Verificando os dados únicos da coluna 'Tm'\n",
    "data['Tm'].unique()"
   ]
  },
  {
   "cell_type": "markdown",
   "metadata": {},
   "source": [
    "### Criando novas variáveis"
   ]
  },
  {
   "cell_type": "code",
   "execution_count": 16,
   "metadata": {},
   "outputs": [],
   "source": [
    "data['SYds/G'] = round(data['SYds'] / data['G'], 2)\n",
    "data['Sk/G'] = round(data['Sk'] / data['G'], 2)\n",
    "data['TD/G'] = round(data['TD'] / data['G'], 2)\n",
    "data['Int/G'] = round(data['Int'] / data['G'], 2)"
   ]
  },
  {
   "cell_type": "markdown",
   "metadata": {},
   "source": [
    "### Alterando o tipo dos dados de algumas colunas"
   ]
  },
  {
   "cell_type": "code",
   "execution_count": 17,
   "metadata": {},
   "outputs": [],
   "source": [
    "data['Age'] = data['Age'].astype(np.int64)\n",
    "data['G'] = data['G'].astype(np.int64)\n",
    "data['GS'] = data['GS'].astype(np.int64)\n",
    "data['Cmp'] = data['Cmp'].astype(np.int64)\n",
    "data['Att'] = data['Att'].astype(np.int64)\n",
    "data['Yds'] = data['Yds'].astype(np.int64)\n",
    "data['TD'] = data['TD'].astype(np.int64)\n",
    "data['Int'] = data['Int'].astype(np.int64)\n",
    "data['1D'] = data['1D'].astype(np.int64)\n",
    "data['Lng'] = data['Lng'].astype(np.int64)\n",
    "data['Sk'] = data['Sk'].astype(np.int64)\n",
    "data['SYds'] = data['SYds'].astype(np.int64)"
   ]
  },
  {
   "cell_type": "code",
   "execution_count": 18,
   "metadata": {},
   "outputs": [
    {
     "data": {
      "text/plain": [
       "Player     object\n",
       "Tm         object\n",
       "Age         int64\n",
       "Pos        object\n",
       "G           int64\n",
       "GS          int64\n",
       "Cmp         int64\n",
       "Att         int64\n",
       "Cmp%      float64\n",
       "Yds         int64\n",
       "TD          int64\n",
       "TD%       float64\n",
       "Int         int64\n",
       "Int%      float64\n",
       "1D          int64\n",
       "Lng         int64\n",
       "Y/A       float64\n",
       "AY/A      float64\n",
       "Y/C        object\n",
       "Y/G       float64\n",
       "Rate      float64\n",
       "Sk          int64\n",
       "SYds        int64\n",
       "Sk%       float64\n",
       "NY/A      float64\n",
       "ANY/A     float64\n",
       "Year        int64\n",
       "SYds/G    float64\n",
       "Sk/G      float64\n",
       "TD/G      float64\n",
       "Int/G     float64\n",
       "dtype: object"
      ]
     },
     "execution_count": 18,
     "metadata": {},
     "output_type": "execute_result"
    }
   ],
   "source": [
    "data.dtypes"
   ]
  },
  {
   "cell_type": "markdown",
   "metadata": {},
   "source": [
    "### Reordenando o Data Frame"
   ]
  },
  {
   "cell_type": "code",
   "execution_count": 19,
   "metadata": {},
   "outputs": [],
   "source": [
    "data = data[['Player', 'Tm', 'Age', 'Pos', 'G', 'GS', 'Cmp', 'Att', 'Cmp%', 'Yds', 'TD', 'TD/G', 'TD%', 'Int', 'Int/G', 'Int%', '1D', 'Lng', 'Y/A', 'AY/A', 'Y/C', 'Y/G', 'Rate', 'Sk', 'Sk/G', 'SYds', 'SYds/G', 'Sk%', 'NY/A', 'ANY/A', 'Year']]"
   ]
  },
  {
   "cell_type": "code",
   "execution_count": 20,
   "metadata": {},
   "outputs": [
    {
     "data": {
      "text/html": [
       "<div>\n",
       "<style scoped>\n",
       "    .dataframe tbody tr th:only-of-type {\n",
       "        vertical-align: middle;\n",
       "    }\n",
       "\n",
       "    .dataframe tbody tr th {\n",
       "        vertical-align: top;\n",
       "    }\n",
       "\n",
       "    .dataframe thead th {\n",
       "        text-align: right;\n",
       "    }\n",
       "</style>\n",
       "<table border=\"1\" class=\"dataframe\">\n",
       "  <thead>\n",
       "    <tr style=\"text-align: right;\">\n",
       "      <th></th>\n",
       "      <th>Player</th>\n",
       "      <th>Tm</th>\n",
       "      <th>Age</th>\n",
       "      <th>Pos</th>\n",
       "      <th>G</th>\n",
       "      <th>GS</th>\n",
       "      <th>Cmp</th>\n",
       "      <th>Att</th>\n",
       "      <th>Cmp%</th>\n",
       "      <th>Yds</th>\n",
       "      <th>TD</th>\n",
       "      <th>TD/G</th>\n",
       "      <th>TD%</th>\n",
       "      <th>Int</th>\n",
       "      <th>Int/G</th>\n",
       "      <th>Int%</th>\n",
       "      <th>1D</th>\n",
       "      <th>Lng</th>\n",
       "      <th>Y/A</th>\n",
       "      <th>AY/A</th>\n",
       "      <th>Y/C</th>\n",
       "      <th>Y/G</th>\n",
       "      <th>Rate</th>\n",
       "      <th>Sk</th>\n",
       "      <th>Sk/G</th>\n",
       "      <th>SYds</th>\n",
       "      <th>SYds/G</th>\n",
       "      <th>Sk%</th>\n",
       "      <th>NY/A</th>\n",
       "      <th>ANY/A</th>\n",
       "      <th>Year</th>\n",
       "    </tr>\n",
       "  </thead>\n",
       "  <tbody>\n",
       "    <tr>\n",
       "      <th>0</th>\n",
       "      <td>Philip Rivers</td>\n",
       "      <td>SDG</td>\n",
       "      <td>29</td>\n",
       "      <td>QB</td>\n",
       "      <td>16</td>\n",
       "      <td>16</td>\n",
       "      <td>357</td>\n",
       "      <td>541</td>\n",
       "      <td>66.0</td>\n",
       "      <td>4710</td>\n",
       "      <td>30</td>\n",
       "      <td>1.88</td>\n",
       "      <td>5.5</td>\n",
       "      <td>13</td>\n",
       "      <td>0.81</td>\n",
       "      <td>2.4</td>\n",
       "      <td>234</td>\n",
       "      <td>59</td>\n",
       "      <td>8.7</td>\n",
       "      <td>8.7</td>\n",
       "      <td>13.2</td>\n",
       "      <td>294.4</td>\n",
       "      <td>101.8</td>\n",
       "      <td>38</td>\n",
       "      <td>2.38</td>\n",
       "      <td>227</td>\n",
       "      <td>14.19</td>\n",
       "      <td>6.6</td>\n",
       "      <td>7.74</td>\n",
       "      <td>7.77</td>\n",
       "      <td>2010</td>\n",
       "    </tr>\n",
       "    <tr>\n",
       "      <th>1</th>\n",
       "      <td>Peyton Manning</td>\n",
       "      <td>IND</td>\n",
       "      <td>34</td>\n",
       "      <td>QB</td>\n",
       "      <td>16</td>\n",
       "      <td>16</td>\n",
       "      <td>450</td>\n",
       "      <td>679</td>\n",
       "      <td>66.3</td>\n",
       "      <td>4700</td>\n",
       "      <td>33</td>\n",
       "      <td>2.06</td>\n",
       "      <td>4.9</td>\n",
       "      <td>17</td>\n",
       "      <td>1.06</td>\n",
       "      <td>2.5</td>\n",
       "      <td>253</td>\n",
       "      <td>73</td>\n",
       "      <td>6.9</td>\n",
       "      <td>6.8</td>\n",
       "      <td>10.4</td>\n",
       "      <td>293.8</td>\n",
       "      <td>91.9</td>\n",
       "      <td>16</td>\n",
       "      <td>1.00</td>\n",
       "      <td>91</td>\n",
       "      <td>5.69</td>\n",
       "      <td>2.3</td>\n",
       "      <td>6.63</td>\n",
       "      <td>6.48</td>\n",
       "      <td>2010</td>\n",
       "    </tr>\n",
       "  </tbody>\n",
       "</table>\n",
       "</div>"
      ],
      "text/plain": [
       "           Player   Tm  Age Pos   G  GS  Cmp  Att  Cmp%   Yds  TD  TD/G  TD%  \\\n",
       "0   Philip Rivers  SDG   29  QB  16  16  357  541  66.0  4710  30  1.88  5.5   \n",
       "1  Peyton Manning  IND   34  QB  16  16  450  679  66.3  4700  33  2.06  4.9   \n",
       "\n",
       "   Int  Int/G  Int%   1D  Lng  Y/A  AY/A   Y/C    Y/G   Rate  Sk  Sk/G  SYds  \\\n",
       "0   13   0.81   2.4  234   59  8.7   8.7  13.2  294.4  101.8  38  2.38   227   \n",
       "1   17   1.06   2.5  253   73  6.9   6.8  10.4  293.8   91.9  16  1.00    91   \n",
       "\n",
       "   SYds/G  Sk%  NY/A  ANY/A  Year  \n",
       "0   14.19  6.6  7.74   7.77  2010  \n",
       "1    5.69  2.3  6.63   6.48  2010  "
      ]
     },
     "execution_count": 20,
     "metadata": {},
     "output_type": "execute_result"
    }
   ],
   "source": [
    "data.head(2)"
   ]
  },
  {
   "cell_type": "markdown",
   "metadata": {},
   "source": [
    "### Salvando os dados"
   ]
  },
  {
   "cell_type": "code",
   "execution_count": null,
   "metadata": {},
   "outputs": [],
   "source": [
    "data.to_csv('../../DATA/DATA_FOR_CLEANING/PASSING/PASSING_CLEAR.csv', index=False)"
   ]
  }
 ],
 "metadata": {
  "kernelspec": {
   "display_name": "Python 3.10.6 ('AED_NFL')",
   "language": "python",
   "name": "python3"
  },
  "language_info": {
   "codemirror_mode": {
    "name": "ipython",
    "version": 3
   },
   "file_extension": ".py",
   "mimetype": "text/x-python",
   "name": "python",
   "nbconvert_exporter": "python",
   "pygments_lexer": "ipython3",
   "version": "3.10.6"
  },
  "orig_nbformat": 4,
  "vscode": {
   "interpreter": {
    "hash": "f400a452013076deaeef5d5fc759bfd76051663f402a5ef7bcd7f94d5051e197"
   }
  }
 },
 "nbformat": 4,
 "nbformat_minor": 2
}
